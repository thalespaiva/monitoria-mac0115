{
 "cells": [
  {
   "cell_type": "markdown",
   "metadata": {},
   "source": [
    "No enunciado do EP3 é dado um algoritmo para copiar uma matriz A sem a linhas i e colununa j para uma matriz B. Alguns alunos tentaram implementar em Python copiando exatamente o algoritmo e viram que não funcionou. "
   ]
  },
  {
   "cell_type": "markdown",
   "metadata": {},
   "source": [
    "Como o algoritmo foi apresentado em pseudo-código, é importante que o aluno trate de problemas na implementação em sua linguagem de escolha, no caso Python."
   ]
  },
  {
   "cell_type": "markdown",
   "metadata": {},
   "source": [
    "O algoritmo é descrito para a função `copiaAparaB(A, i_retira, j_retira, B)` e copia a matriz A sem a linha i_retira e sem a coluna j_retira para a matriz B. O problema de apenas \"copiar\" o código dado é que em Python, você só consegue mudar o valor de uma lista dentro de uma função através dos métodos de lista."
   ]
  },
  {
   "cell_type": "markdown",
   "metadata": {},
   "source": [
    "Considere o código abaixo que tenta mudar o valor de uma matriz passada como argumento:"
   ]
  },
  {
   "cell_type": "code",
   "execution_count": 1,
   "metadata": {
    "collapsed": true
   },
   "outputs": [],
   "source": [
    "def tenta_mudar_matriz(M):\n",
    "    M = [0, 0, 0, 0]"
   ]
  },
  {
   "cell_type": "markdown",
   "metadata": {},
   "source": [
    "Vamos tentar aplicar essa função a uma matriz A."
   ]
  },
  {
   "cell_type": "code",
   "execution_count": 3,
   "metadata": {
    "collapsed": true
   },
   "outputs": [],
   "source": [
    "A = [1, 2, 3, 4]"
   ]
  },
  {
   "cell_type": "code",
   "execution_count": 4,
   "metadata": {
    "collapsed": true
   },
   "outputs": [],
   "source": [
    "tenta_mudar_matriz(A)"
   ]
  },
  {
   "cell_type": "markdown",
   "metadata": {},
   "source": [
    "Note que o valor de A continua o mesmo de antes de aplicar a função!"
   ]
  },
  {
   "cell_type": "code",
   "execution_count": 5,
   "metadata": {
    "collapsed": false
   },
   "outputs": [
    {
     "data": {
      "text/plain": [
       "[1, 2, 3, 4]"
      ]
     },
     "execution_count": 5,
     "metadata": {},
     "output_type": "execute_result"
    }
   ],
   "source": [
    "A"
   ]
  },
  {
   "cell_type": "markdown",
   "metadata": {},
   "source": [
    "Isso ocorre pois, quando fazemos `M = [0, 0, 0, 0]` dentro da função, o que estamos fazendo é alterando o valor de `M`, que é variável local na função `tenta_mudar_matriz`, para uma nova matriz, `[0, 0, 0, 0]`. Assim, a **referência** à matriz passada como argumento (`A`) é perdida."
   ]
  },
  {
   "cell_type": "markdown",
   "metadata": {},
   "source": [
    "Para mudar os valores de uma lista passada como argumento de uma função, precisamos usar os **métodos** de lista. Métodos de um objeto são funções especiais que são aplicadas sobre este objeto e que podem ter a capacidade de alterá-lo."
   ]
  },
  {
   "cell_type": "markdown",
   "metadata": {},
   "source": [
    "Considere o código abaixo:"
   ]
  },
  {
   "cell_type": "code",
   "execution_count": 16,
   "metadata": {
    "collapsed": true
   },
   "outputs": [],
   "source": [
    "M = [1,2,3] # M é uma variável que guarda um objeto do tipo lista, \n",
    "            # inicializado com [1,2,3]"
   ]
  },
  {
   "cell_type": "code",
   "execution_count": 17,
   "metadata": {
    "collapsed": true
   },
   "outputs": [],
   "source": [
    "M.append(4) # O método append é aplicado sobre a lista em M para \n",
    "            # acrescentar o elemento 4"
   ]
  },
  {
   "cell_type": "code",
   "execution_count": 10,
   "metadata": {
    "collapsed": false
   },
   "outputs": [
    {
     "data": {
      "text/plain": [
       "[1, 2, 3, 4]"
      ]
     },
     "execution_count": 10,
     "metadata": {},
     "output_type": "execute_result"
    }
   ],
   "source": [
    "M"
   ]
  },
  {
   "cell_type": "code",
   "execution_count": 15,
   "metadata": {
    "collapsed": true
   },
   "outputs": [],
   "source": [
    "N = [1,2,3] # N é uma variável que guarda um objeto do tipo lista, \n",
    "            # inicializado com [1,2,3]"
   ]
  },
  {
   "cell_type": "code",
   "execution_count": 13,
   "metadata": {
    "collapsed": true
   },
   "outputs": [],
   "source": [
    "N = [1,2,3,4] # N é uma variável que guarda um NOVO objeto do tipo lista,\n",
    "              # inicializado com [1,2,3,4]"
   ]
  },
  {
   "cell_type": "markdown",
   "metadata": {},
   "source": [
    "Assim, o código para a função `copiarAparaB` fica mais simples se não alterar o valor de uma matriz `B` passada como argumento. Assim, criaria uma nova lista dentro da função e a devolveria ao final. "
   ]
  },
  {
   "cell_type": "markdown",
   "metadata": {},
   "source": [
    "Seu código parcial seria:"
   ]
  },
  {
   "cell_type": "code",
   "execution_count": 18,
   "metadata": {
    "collapsed": true
   },
   "outputs": [],
   "source": [
    "def copiaAparaB(A, i_retira, j_retira):\n",
    "    B = []\n",
    "    for i in range(len(A)):\n",
    "        B.append([])\n",
    "        \n",
    "        if i < i_retira:\n",
    "            for j in range(j_retira):\n",
    "                B[i].append(A[i][j])\n",
    "        # .\n",
    "        # .\n",
    "        # .\n",
    "        # .\n",
    "        # .\n",
    "    \n",
    "    return B\n",
    "        "
   ]
  },
  {
   "cell_type": "markdown",
   "metadata": {},
   "source": [
    "E em seu programa, você faria algo do tipo:"
   ]
  },
  {
   "cell_type": "code",
   "execution_count": 20,
   "metadata": {
    "collapsed": false
   },
   "outputs": [],
   "source": [
    "# A = [.......]\n",
    "# i_retira = ...\n",
    "# j_retira = ...\n",
    "# B = copiaAparaB(A, i_retira, j_retira)\n",
    "# trabalha sobre B..."
   ]
  },
  {
   "cell_type": "markdown",
   "metadata": {},
   "source": [
    "## Uma curiosidade\n",
    "### (Não use as funções que implementarei aqui nos seus programas!)"
   ]
  },
  {
   "cell_type": "markdown",
   "metadata": {},
   "source": [
    "Em Python, há o que chamamos de fatias de listas. Uma fatia de uma lista `L` é representada por `L[i:j]`. Isso retorna uma nova lista `M = [L[i], L[i+1], ..., L[j-2], L[j-1]]`. Por exemplo:"
   ]
  },
  {
   "cell_type": "code",
   "execution_count": 22,
   "metadata": {
    "collapsed": true
   },
   "outputs": [],
   "source": [
    "L = [0,1,2,3,4,5,6,7,8,9]"
   ]
  },
  {
   "cell_type": "code",
   "execution_count": 23,
   "metadata": {
    "collapsed": false
   },
   "outputs": [
    {
     "data": {
      "text/plain": [
       "[0, 1, 2]"
      ]
     },
     "execution_count": 23,
     "metadata": {},
     "output_type": "execute_result"
    }
   ],
   "source": [
    "L[0:3]"
   ]
  },
  {
   "cell_type": "code",
   "execution_count": 26,
   "metadata": {
    "collapsed": false
   },
   "outputs": [
    {
     "data": {
      "text/plain": [
       "[2]"
      ]
     },
     "execution_count": 26,
     "metadata": {},
     "output_type": "execute_result"
    }
   ],
   "source": [
    "L[2:3]"
   ]
  },
  {
   "cell_type": "code",
   "execution_count": 27,
   "metadata": {
    "collapsed": false
   },
   "outputs": [
    {
     "data": {
      "text/plain": [
       "[]"
      ]
     },
     "execution_count": 27,
     "metadata": {},
     "output_type": "execute_result"
    }
   ],
   "source": [
    "L[4:3]"
   ]
  },
  {
   "cell_type": "markdown",
   "metadata": {},
   "source": [
    "Então, usando fatias, a função copiaAparaB pode ser reescrita como:"
   ]
  },
  {
   "cell_type": "code",
   "execution_count": 35,
   "metadata": {
    "collapsed": true
   },
   "outputs": [],
   "source": [
    "def copiaAparaB_fatias(A, i_retira, j_retira):\n",
    "    B = A[:i_retira] + A[i_retira + 1:]\n",
    "    for i in range(len(B)):\n",
    "        B[i] = B[i][:j_retira] + B[i][j_retira+1:]\n",
    "    return B"
   ]
  },
  {
   "cell_type": "code",
   "execution_count": 36,
   "metadata": {
    "collapsed": true
   },
   "outputs": [],
   "source": [
    "A = [\n",
    "        [1 ,2 ,3 ,4 ],\n",
    "        [5 ,6 ,7 ,8 ],\n",
    "        [9 ,10,11,12],\n",
    "        [13,14,15,16],\n",
    "    ]"
   ]
  },
  {
   "cell_type": "code",
   "execution_count": 38,
   "metadata": {
    "collapsed": false
   },
   "outputs": [
    {
     "data": {
      "text/plain": [
       "[[1, 3, 4], [5, 7, 8], [13, 15, 16]]"
      ]
     },
     "execution_count": 38,
     "metadata": {},
     "output_type": "execute_result"
    }
   ],
   "source": [
    "copiaAparaB_fatias(A, 2, 1)"
   ]
  },
  {
   "cell_type": "markdown",
   "metadata": {},
   "source": [
    "Ainda, usando o comando `del`, temos:"
   ]
  },
  {
   "cell_type": "code",
   "execution_count": 42,
   "metadata": {
    "collapsed": true
   },
   "outputs": [],
   "source": [
    "def copiaAparaB_del(A, i_retira, j_retira):\n",
    "    B = A[:] # Para criar uma nova matriz copiada de A, não passar só a referência\n",
    "    del(B[i_retira])\n",
    "    for i in range(len(B)):\n",
    "        del(B[i][j_retira])\n",
    "    return B"
   ]
  },
  {
   "cell_type": "code",
   "execution_count": 43,
   "metadata": {
    "collapsed": false
   },
   "outputs": [
    {
     "data": {
      "text/plain": [
       "[[1, 3, 4], [5, 7, 8], [13, 15, 16]]"
      ]
     },
     "execution_count": 43,
     "metadata": {},
     "output_type": "execute_result"
    }
   ],
   "source": [
    "copiaAparaB_del(A, 2, 1)"
   ]
  },
  {
   "cell_type": "markdown",
   "metadata": {},
   "source": [
    "Mas não use essas funções no seu programa! Lá, deve usar o algoritmo passado pelo professor, para exercitar o trabalho com listas."
   ]
  }
 ],
 "metadata": {
  "kernelspec": {
   "display_name": "Python 3",
   "language": "python",
   "name": "python3"
  },
  "language_info": {
   "codemirror_mode": {
    "name": "ipython",
    "version": 3
   },
   "file_extension": ".py",
   "mimetype": "text/x-python",
   "name": "python",
   "nbconvert_exporter": "python",
   "pygments_lexer": "ipython3",
   "version": "3.5.0"
  }
 },
 "nbformat": 4,
 "nbformat_minor": 0
}
