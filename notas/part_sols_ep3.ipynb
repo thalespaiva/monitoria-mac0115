{
 "cells": [
  {
   "cell_type": "markdown",
   "metadata": {},
   "source": [
    "## Soluções parciais para o EP3"
   ]
  },
  {
   "cell_type": "markdown",
   "metadata": {},
   "source": [
    "Para testar nossos programas, precismos ter algumas soluções. Apesar de vocês não poderem usar módulos externos para resolver o EP, vocês podem usar para ter os resultados esperados!\n",
    "\n",
    "Usaremos o módulo `numpy` para gerar algumas soluções. Então:"
   ]
  },
  {
   "cell_type": "code",
   "execution_count": 83,
   "metadata": {
    "collapsed": true
   },
   "outputs": [],
   "source": [
    "import numpy"
   ]
  },
  {
   "cell_type": "markdown",
   "metadata": {},
   "source": [
    "### Multiplicação de Matrizes"
   ]
  },
  {
   "cell_type": "markdown",
   "metadata": {},
   "source": [
    "No `numpy`, a multiplicação de matrizes é feita pela função `numpy.dot`. Como ela opera sobre estruturas do tipo `numpy.array`, fazemos uma função `mult_matrix` que:\n",
    "1. recebe listas de listas (nossas matrizes)\n",
    "2. transforma essas matrizes em `numpy.array`'s\n",
    "3. calcula o produto pela função `numpy.dot`\n",
    "4. returna a representação em lista do produto"
   ]
  },
  {
   "cell_type": "code",
   "execution_count": 23,
   "metadata": {
    "collapsed": true
   },
   "outputs": [],
   "source": [
    "def mult_matrix(A, B):\n",
    "    np_matrixA = numpy.array(A)\n",
    "    np_matrixB = numpy.array(B)\n",
    "    \n",
    "    np_matrix_AxB = numpy.dot(np_matrixA, np_matrixB)\n",
    "    \n",
    "    return np_matrix_AxB.tolist()"
   ]
  },
  {
   "cell_type": "markdown",
   "metadata": {},
   "source": [
    "Veja que funciona."
   ]
  },
  {
   "cell_type": "code",
   "execution_count": 27,
   "metadata": {
    "collapsed": true
   },
   "outputs": [],
   "source": [
    "A = [\n",
    "    [0, 2, 1],\n",
    "    [1, 1, 1],\n",
    "    [2, 0, 1],\n",
    "]"
   ]
  },
  {
   "cell_type": "code",
   "execution_count": 28,
   "metadata": {
    "collapsed": true
   },
   "outputs": [],
   "source": [
    "B = [\n",
    "    [1, 2, 3],\n",
    "    [4, 5, 6],\n",
    "    [7, 8, 9],\n",
    "]"
   ]
  },
  {
   "cell_type": "code",
   "execution_count": 29,
   "metadata": {
    "collapsed": false
   },
   "outputs": [
    {
     "data": {
      "text/plain": [
       "[[15, 18, 21], [12, 15, 18], [9, 12, 15]]"
      ]
     },
     "execution_count": 29,
     "metadata": {},
     "output_type": "execute_result"
    }
   ],
   "source": [
    "mult_matrix(A, B)"
   ]
  },
  {
   "cell_type": "markdown",
   "metadata": {},
   "source": [
    "Use essa função para testar a saída da sua."
   ]
  },
  {
   "cell_type": "markdown",
   "metadata": {},
   "source": [
    "### Cálculo da inversa "
   ]
  },
  {
   "cell_type": "markdown",
   "metadata": {},
   "source": [
    "O cálculo da inversa é feito pela função `inv`, do `numpy.lin` que é o pacote de álgebra linear do `numpy`. Como várias funções do `numpy`, esta função também opera sobre ojetos do tipo `numpy.array` e, por isso, devemos fazer a conversão. "
   ]
  },
  {
   "cell_type": "code",
   "execution_count": 82,
   "metadata": {
    "collapsed": true
   },
   "outputs": [],
   "source": [
    "def inv_matrix(A):\n",
    "    np_matrixA = numpy.array(A)\n",
    "    \n",
    "    try:\n",
    "        np_matrixAinv = numpy.linalg.inv(np_matrixA)\n",
    "        return np_matrixAinv.tolist()\n",
    "    \n",
    "    except numpy.linalg.LinAlgError:\n",
    "        return False"
   ]
  },
  {
   "cell_type": "markdown",
   "metadata": {},
   "source": [
    "Considere a matriz abaixo."
   ]
  },
  {
   "cell_type": "code",
   "execution_count": 65,
   "metadata": {
    "collapsed": false
   },
   "outputs": [],
   "source": [
    "C = [\n",
    "    [0, 1, 2],\n",
    "    [1, 0, 0], \n",
    "    [0, 1, 1],\n",
    "]"
   ]
  },
  {
   "cell_type": "code",
   "execution_count": 58,
   "metadata": {
    "collapsed": false
   },
   "outputs": [],
   "source": [
    "Cinv = inv_matrix(C)"
   ]
  },
  {
   "cell_type": "code",
   "execution_count": 70,
   "metadata": {
    "collapsed": false
   },
   "outputs": [
    {
     "name": "stdout",
     "output_type": "stream",
     "text": [
      "[[0.0, 1.0, 0.0], [-1.0, 0.0, 2.0], [1.0, 0.0, -1.0]]\n"
     ]
    }
   ],
   "source": [
    "print(Cinv)"
   ]
  },
  {
   "cell_type": "markdown",
   "metadata": {},
   "source": [
    "Esperamos que o produto de `Cinv` por `C` seja a identidade (o mesmo para `C`*`Cinv`. Veja que isso se verifica."
   ]
  },
  {
   "cell_type": "code",
   "execution_count": 69,
   "metadata": {
    "collapsed": false
   },
   "outputs": [
    {
     "data": {
      "text/plain": [
       "[[1.0, 0.0, 0.0], [0.0, 1.0, 0.0], [0.0, 0.0, 1.0]]"
      ]
     },
     "execution_count": 69,
     "metadata": {},
     "output_type": "execute_result"
    }
   ],
   "source": [
    "mult_matrix(Cinv, C)"
   ]
  },
  {
   "cell_type": "code",
   "execution_count": 68,
   "metadata": {
    "collapsed": false
   },
   "outputs": [
    {
     "data": {
      "text/plain": [
       "[[1.0, 0.0, 0.0], [0.0, 1.0, 0.0], [0.0, 0.0, 1.0]]"
      ]
     },
     "execution_count": 68,
     "metadata": {},
     "output_type": "execute_result"
    }
   ],
   "source": [
    "mult_matrix(C, Cinv)"
   ]
  },
  {
   "cell_type": "markdown",
   "metadata": {},
   "source": [
    "E se tentamos aplicar a função em uma matriz singular `S`:"
   ]
  },
  {
   "cell_type": "code",
   "execution_count": 67,
   "metadata": {
    "collapsed": true
   },
   "outputs": [],
   "source": [
    "S = [\n",
    "    [1, 2, 3],\n",
    "    [2, 4, 6],\n",
    "    [0, 1, 1],\n",
    "]"
   ]
  },
  {
   "cell_type": "code",
   "execution_count": 72,
   "metadata": {
    "collapsed": false
   },
   "outputs": [
    {
     "data": {
      "text/plain": [
       "False"
      ]
     },
     "execution_count": 72,
     "metadata": {},
     "output_type": "execute_result"
    }
   ],
   "source": [
    "inv_matrix(S)"
   ]
  },
  {
   "cell_type": "markdown",
   "metadata": {},
   "source": [
    "### Cálculo do determinante"
   ]
  },
  {
   "cell_type": "markdown",
   "metadata": {},
   "source": [
    "O determinante pode ser calculado pela função `det`, também do pacote `numpy.linalg`. O código fica:"
   ]
  },
  {
   "cell_type": "code",
   "execution_count": 75,
   "metadata": {
    "collapsed": true
   },
   "outputs": [],
   "source": [
    "def det_matrix(A):\n",
    "    np_matrixA = np.array(A)\n",
    "    \n",
    "    return numpy.linalg.det(np_matrixA)"
   ]
  },
  {
   "cell_type": "markdown",
   "metadata": {},
   "source": [
    "Para a matriz do enunciado, esperamos que o determinante seja -22.52 ."
   ]
  },
  {
   "cell_type": "code",
   "execution_count": 79,
   "metadata": {
    "collapsed": true
   },
   "outputs": [],
   "source": [
    "E = [\n",
    "    [2.1, 4.9, -1.3],\n",
    "    [-3.9, 5, 8.7],\n",
    "    [5, 9.1, -5],\n",
    "]"
   ]
  },
  {
   "cell_type": "code",
   "execution_count": 80,
   "metadata": {
    "collapsed": false
   },
   "outputs": [
    {
     "data": {
      "text/plain": [
       "-22.52"
      ]
     },
     "execution_count": 80,
     "metadata": {},
     "output_type": "execute_result"
    }
   ],
   "source": [
    "det_matrix(E)"
   ]
  },
  {
   "cell_type": "code",
   "execution_count": 81,
   "metadata": {
    "collapsed": false
   },
   "outputs": [
    {
     "data": {
      "text/plain": [
       "0.0"
      ]
     },
     "execution_count": 81,
     "metadata": {},
     "output_type": "execute_result"
    }
   ],
   "source": [
    "det_matrix(S)"
   ]
  }
 ],
 "metadata": {
  "kernelspec": {
   "display_name": "Python 3",
   "language": "python",
   "name": "python3"
  },
  "language_info": {
   "codemirror_mode": {
    "name": "ipython",
    "version": 3
   },
   "file_extension": ".py",
   "mimetype": "text/x-python",
   "name": "python",
   "nbconvert_exporter": "python",
   "pygments_lexer": "ipython3",
   "version": "3.5.0"
  }
 },
 "nbformat": 4,
 "nbformat_minor": 0
}
