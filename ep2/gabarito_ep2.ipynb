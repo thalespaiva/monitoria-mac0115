{
 "cells": [
  {
   "cell_type": "markdown",
   "metadata": {},
   "source": [
    "# MAC0115 2015 - Professor Routo Terada"
   ]
  },
  {
   "cell_type": "markdown",
   "metadata": {},
   "source": [
    "## Solução do EP2 em python3\n",
    "### Por Thales Paiva (<thalespaiva@gmail.com>)"
   ]
  },
  {
   "cell_type": "markdown",
   "metadata": {},
   "source": [
    "### 0. Enunciado"
   ]
  },
  {
   "cell_type": "markdown",
   "metadata": {},
   "source": [
    "Foi pedido que os alunos implementassem o método de Monte Carlo para a integração de funções de uma variável num dado intervalo $[a, b]$. Para facilitar, é feita a suposição de que, para todo $x \\in [a, b]$, temos que $ 0 \\leq f(x) \\leq M $, para algum $M$ conhecido."
   ]
  },
  {
   "cell_type": "markdown",
   "metadata": {},
   "source": [
    "O método de Monte Carlo para estimar a integral de uma função $f$ como especificada acima é dado por:\n",
    "1. Gere um conjunto $X = \\{( x_1, y_1), \\dots, (x_n, y_n) \\}$ de $n$ pares de pontos em $ [a,b] \\times [0, M] $ através de um gerador de número pseudo-aleatório.\n",
    "2. Calcule $k = \\#\\{(x_i, y_i) \\in X : y_i \\leq f(x_i)\\}$,o número de pontos que ficam abaixo da curva de $f$.\n",
    "3. Calcule $p = \\frac{k}{n} $, a proporção dos pontos abaixo da curva de $f$ no retângulo $ [a,b] \\times [0, M] $.\n",
    "4. Calcule $q = M(b - a)$, o valor da área do retângulo $ [a,b] \\times [0, M] $.\n",
    "4. A estimativa da integral será $ \\int_a^b f(x) \\approx pq $."
   ]
  },
  {
   "cell_type": "markdown",
   "metadata": {},
   "source": [
    "Falaremos sobre cada um destes passos nas próximas seções."
   ]
  },
  {
   "cell_type": "markdown",
   "metadata": {},
   "source": [
    "### 1. Geração do conjunto $X$"
   ]
  },
  {
   "cell_type": "markdown",
   "metadata": {},
   "source": [
    "Queremos gerar $n$ pontos pseudo-aletórios sob uma distribuição uniforme no retângulo $ [a,b] \\times [0, M] $. Em Python, através do módulo `random`, é muito fácil gerar um número pseudo-aleatório sob distribuição uniforme no intervalo $[r, s]$. Primeiro, importamos o módulo:"
   ]
  },
  {
   "cell_type": "code",
   "execution_count": 1,
   "metadata": {
    "collapsed": true
   },
   "outputs": [],
   "source": [
    "import random"
   ]
  },
  {
   "cell_type": "markdown",
   "metadata": {},
   "source": [
    "Sempre que usamos funções com comportamento pseudo-aleatório, é necessário inicializar uma semente, que é o ponto de partida para o gerador. Há dois principais motivos opostos que fazem a inicialização de uma semente ser boa prática:\n",
    "1. Quando queremos que os resultados do experimento possam ser reproduzidos. Assim, usamos uma semente pré-determinada e fazemos `random.seed(s)`, com s sendo um inteiro fixo.\n",
    "2. Quando queremos dar uma semente para termos resultados diferentes cada vez que o programa for rodado. Nesse caso, podemos usar parâmetros não pré-determinados como tempo atual,  temperatura do processador ou uso da memória. Por ser comum usarmos o tempo atual, a chamada de `random.seed()` sem argumento faz exatamente isso."
   ]
  },
  {
   "cell_type": "code",
   "execution_count": 2,
   "metadata": {
    "collapsed": true
   },
   "outputs": [],
   "source": [
    "random.seed()"
   ]
  },
  {
   "cell_type": "code",
   "execution_count": 3,
   "metadata": {
    "collapsed": true
   },
   "outputs": [],
   "source": [
    "r, s = 10, 20"
   ]
  },
  {
   "cell_type": "code",
   "execution_count": 4,
   "metadata": {
    "collapsed": false
   },
   "outputs": [
    {
     "data": {
      "text/plain": [
       "11.337181988630602"
      ]
     },
     "execution_count": 4,
     "metadata": {},
     "output_type": "execute_result"
    }
   ],
   "source": [
    "random.uniform(r, s)"
   ]
  },
  {
   "cell_type": "markdown",
   "metadata": {},
   "source": [
    "Então, para gerarmos um ponto $(x, y)$ num retângulo, digamos $[0, 4] \\times [1,5]$, podemos fazer:"
   ]
  },
  {
   "cell_type": "code",
   "execution_count": 5,
   "metadata": {
    "collapsed": true
   },
   "outputs": [],
   "source": [
    "x, y = random.uniform(0, 4), random.uniform(1, 5)"
   ]
  },
  {
   "cell_type": "code",
   "execution_count": 6,
   "metadata": {
    "collapsed": false
   },
   "outputs": [
    {
     "name": "stdout",
     "output_type": "stream",
     "text": [
      "1.8321995657747756 3.500093001754777\n"
     ]
    }
   ],
   "source": [
    "print(x, y)"
   ]
  },
  {
   "cell_type": "markdown",
   "metadata": {},
   "source": [
    "Assim, parece natural criarmos uma função `gen_n_points_in_rectangle(n, a, b, l, m)` que tem como parâmetros $n$ e os limites do retângulo. "
   ]
  },
  {
   "cell_type": "code",
   "execution_count": 7,
   "metadata": {
    "collapsed": true
   },
   "outputs": [],
   "source": [
    "def gen_n_points_in_rect(n, a, b, l, m):\n",
    "    points = []\n",
    "    \n",
    "    for i in range(n):\n",
    "        x, y = random.uniform(a, b), random.uniform(l, m)\n",
    "        points.append((x, y))\n",
    "    \n",
    "    return points"
   ]
  },
  {
   "cell_type": "markdown",
   "metadata": {},
   "source": [
    "E assim, para gerar 10 pontos no retângulo $[0, 4] \\times [1, 5]$, podemos fazer:"
   ]
  },
  {
   "cell_type": "code",
   "execution_count": 8,
   "metadata": {
    "collapsed": false
   },
   "outputs": [
    {
     "data": {
      "text/plain": [
       "[(3.483409391480946, 3.0934108061193526),\n",
       " (2.617433862220216, 2.914886062916314),\n",
       " (0.24784972817848416, 2.4940670234238937),\n",
       " (3.2606965928545923, 4.839977954961904),\n",
       " (0.1428586173519788, 3.271337231144816),\n",
       " (1.006445179359552, 3.612593277953874),\n",
       " (1.7331022797699283, 2.394619854638689),\n",
       " (2.4067374257665173, 4.16471382872697),\n",
       " (1.095954486433393, 4.190446820999021),\n",
       " (3.220030388931838, 2.720546100987794)]"
      ]
     },
     "execution_count": 8,
     "metadata": {},
     "output_type": "execute_result"
    }
   ],
   "source": [
    "gen_n_points_in_rect(10, 0, 4, 1, 5)"
   ]
  },
  {
   "cell_type": "markdown",
   "metadata": {},
   "source": [
    "### Integração de $f$"
   ]
  },
  {
   "cell_type": "markdown",
   "metadata": {},
   "source": [
    "Uma implementação possível então para a estimação da integral por Monte Carlo é a seguinte:"
   ]
  },
  {
   "cell_type": "code",
   "execution_count": 9,
   "metadata": {
    "collapsed": true
   },
   "outputs": [],
   "source": [
    "def integrate_by_monte_carlo_overmem(f, n, a, b, l, m):\n",
    "    k = 0\n",
    "    \n",
    "    for (x, y) in gen_n_points_in_rect(n, a, b, l, m):\n",
    "        if y <= f(x):\n",
    "            k += 1\n",
    "    \n",
    "    return (k / n)*(b - a)*(m - l)\n",
    "    "
   ]
  },
  {
   "cell_type": "markdown",
   "metadata": {},
   "source": [
    "Porém, apesar de correta, há um problema sério de eficiência com essa função: ela guarda a lista de todos os pontos gerados na memória. Isso acontece porque primeiro a função `gen_n_points()` gera os pontos e depois estes são usados pela nossa função. Há alguns modos razoáveis de se resolver esse problema. Dois deles são:\n",
    "1. Processar um ponto logo após a sua geração, descartando logo em seguida.\n",
    "2. Usando o comando `yield` do python na função geradora de pontos."
   ]
  },
  {
   "cell_type": "markdown",
   "metadata": {},
   "source": [
    "Usando o primeiro método, temos uma função que é uma mistura das funções `integrate_by_monte_carlo_slow` e `gen_n_points_in_rect`."
   ]
  },
  {
   "cell_type": "code",
   "execution_count": 10,
   "metadata": {
    "collapsed": true
   },
   "outputs": [],
   "source": [
    "def integrate_by_monte_carlo(f, n, a, b, l, m):\n",
    "    k = 0\n",
    "    \n",
    "    for i in range(n):\n",
    "        x, y = random.uniform(a, b), random.uniform(l, m)\n",
    "        if y <= f(x):\n",
    "            k += 1\n",
    "    \n",
    "    return (k / n)*(b - a)*(m - l)"
   ]
  },
  {
   "cell_type": "markdown",
   "metadata": {},
   "source": [
    "Usando o segundo método, temos a função:"
   ]
  },
  {
   "cell_type": "code",
   "execution_count": 11,
   "metadata": {
    "collapsed": true
   },
   "outputs": [],
   "source": [
    "def gen_n_points_in_rect_online(n, a, b, l, m):\n",
    "    \n",
    "    for i in range(n):\n",
    "        x, y = random.uniform(a, b), random.uniform(l, m)\n",
    "        yield (x, y)\n",
    "    "
   ]
  },
  {
   "cell_type": "markdown",
   "metadata": {},
   "source": [
    "Chamei de online pois ela calcula o ponto (x, y) só quando ele é necessário."
   ]
  },
  {
   "cell_type": "code",
   "execution_count": 12,
   "metadata": {
    "collapsed": false
   },
   "outputs": [
    {
     "data": {
      "text/plain": [
       "[(1.9121498718849161, 2.127951924566092),\n",
       " (2.783923592744942, 3.8582043361765077),\n",
       " (0.7670208477880163, 4.782305109320005),\n",
       " (2.7880020508687537, 2.6857860944987735),\n",
       " (2.063885503627568, 4.71662311701547),\n",
       " (2.96955433336451, 2.8985752091768457),\n",
       " (2.8368802562668747, 2.622222655345537),\n",
       " (2.755079159310944, 3.9030350215426206),\n",
       " (3.6860973137220565, 1.3401867224051984),\n",
       " (3.0762331731897183, 3.7006402502210567)]"
      ]
     },
     "execution_count": 12,
     "metadata": {},
     "output_type": "execute_result"
    }
   ],
   "source": [
    "list(gen_n_points_in_rect_online(10, 0, 4, 1, 5))"
   ]
  },
  {
   "cell_type": "markdown",
   "metadata": {},
   "source": [
    "E a função que integra seria:"
   ]
  },
  {
   "cell_type": "code",
   "execution_count": 13,
   "metadata": {
    "collapsed": false
   },
   "outputs": [],
   "source": [
    "def integrate_by_monte_carlo_online(f, n, a, b, l, m):\n",
    "    k = 0\n",
    "    \n",
    "    for (x, y) in gen_n_points_in_rect_online(n, a, b, l, m):\n",
    "        if y <= f(x):\n",
    "            k += 1\n",
    "    \n",
    "    return (k / n)*(b - a)*(m - l)"
   ]
  },
  {
   "cell_type": "markdown",
   "metadata": {},
   "source": [
    "### Eficiência das soluções"
   ]
  },
  {
   "cell_type": "markdown",
   "metadata": {},
   "source": [
    "Considere a integral $ \\int_1^3 x^2sin^2(x)dx \\approx 4.2166 $. Primeiro importamos o módulo `math`."
   ]
  },
  {
   "cell_type": "code",
   "execution_count": 14,
   "metadata": {
    "collapsed": true
   },
   "outputs": [],
   "source": [
    "import math"
   ]
  },
  {
   "cell_type": "markdown",
   "metadata": {},
   "source": [
    "Agora, definimos a função:"
   ]
  },
  {
   "cell_type": "code",
   "execution_count": 15,
   "metadata": {
    "collapsed": true
   },
   "outputs": [],
   "source": [
    "def f1(x):\n",
    "    sin_x = math.sin(x)\n",
    "    return (x*x)*(sin_x*sin_x)"
   ]
  },
  {
   "cell_type": "markdown",
   "metadata": {},
   "source": [
    "E definimos os limites para o método de Monte Carlo."
   ]
  },
  {
   "cell_type": "code",
   "execution_count": 16,
   "metadata": {
    "collapsed": true
   },
   "outputs": [],
   "source": [
    "a, b, l, m = 1, 3, 0, 5"
   ]
  },
  {
   "cell_type": "code",
   "execution_count": 17,
   "metadata": {
    "collapsed": true
   },
   "outputs": [],
   "source": [
    "n0 = 1000000"
   ]
  },
  {
   "cell_type": "markdown",
   "metadata": {},
   "source": [
    "Observe como as saídas são diferentes pois não reinicializamos a semente:"
   ]
  },
  {
   "cell_type": "code",
   "execution_count": 18,
   "metadata": {
    "collapsed": false
   },
   "outputs": [
    {
     "data": {
      "text/plain": [
       "4.21244"
      ]
     },
     "execution_count": 18,
     "metadata": {},
     "output_type": "execute_result"
    }
   ],
   "source": [
    "integrate_by_monte_carlo_overmem(f1, n0, a, b, l, m)"
   ]
  },
  {
   "cell_type": "code",
   "execution_count": 19,
   "metadata": {
    "collapsed": false
   },
   "outputs": [
    {
     "data": {
      "text/plain": [
       "4.22115"
      ]
     },
     "execution_count": 19,
     "metadata": {},
     "output_type": "execute_result"
    }
   ],
   "source": [
    "integrate_by_monte_carlo_online(f1, n0, a, b, l, m)"
   ]
  },
  {
   "cell_type": "code",
   "execution_count": 20,
   "metadata": {
    "collapsed": false
   },
   "outputs": [
    {
     "data": {
      "text/plain": [
       "4.22054"
      ]
     },
     "execution_count": 20,
     "metadata": {},
     "output_type": "execute_result"
    }
   ],
   "source": [
    "integrate_by_monte_carlo(f1, n0, a, b, l, m)"
   ]
  },
  {
   "cell_type": "markdown",
   "metadata": {},
   "source": [
    "E como ficam iguais quando a reinicializamos com valor pré-determinado, digamos 2:"
   ]
  },
  {
   "cell_type": "code",
   "execution_count": 21,
   "metadata": {
    "collapsed": false
   },
   "outputs": [
    {
     "data": {
      "text/plain": [
       "4.21432"
      ]
     },
     "execution_count": 21,
     "metadata": {},
     "output_type": "execute_result"
    }
   ],
   "source": [
    "random.seed(2); integrate_by_monte_carlo_overmem(f1, n0, a, b, l, m)"
   ]
  },
  {
   "cell_type": "code",
   "execution_count": 22,
   "metadata": {
    "collapsed": false
   },
   "outputs": [
    {
     "data": {
      "text/plain": [
       "4.21432"
      ]
     },
     "execution_count": 22,
     "metadata": {},
     "output_type": "execute_result"
    }
   ],
   "source": [
    "random.seed(2); integrate_by_monte_carlo_online(f1, n0, a, b, l, m)"
   ]
  },
  {
   "cell_type": "code",
   "execution_count": 23,
   "metadata": {
    "collapsed": false
   },
   "outputs": [
    {
     "data": {
      "text/plain": [
       "4.21432"
      ]
     },
     "execution_count": 23,
     "metadata": {},
     "output_type": "execute_result"
    }
   ],
   "source": [
    "random.seed(2); integrate_by_monte_carlo(f1, n0, a, b, l, m)"
   ]
  },
  {
   "cell_type": "markdown",
   "metadata": {},
   "source": [
    "E agora, sobre o desempenho delas:"
   ]
  },
  {
   "cell_type": "code",
   "execution_count": 24,
   "metadata": {
    "collapsed": true
   },
   "outputs": [],
   "source": [
    "n1 = 10000000"
   ]
  },
  {
   "cell_type": "code",
   "execution_count": 26,
   "metadata": {
    "collapsed": false
   },
   "outputs": [
    {
     "name": "stdout",
     "output_type": "stream",
     "text": [
      "1 loops, best of 3: 17.2 s per loop\n"
     ]
    }
   ],
   "source": [
    "%timeit integrate_by_monte_carlo_overmem(f1, n1, a, b, l, m)"
   ]
  },
  {
   "cell_type": "code",
   "execution_count": 27,
   "metadata": {
    "collapsed": false
   },
   "outputs": [
    {
     "name": "stdout",
     "output_type": "stream",
     "text": [
      "1 loops, best of 3: 16.6 s per loop\n"
     ]
    }
   ],
   "source": [
    "%timeit integrate_by_monte_carlo_online(f1, n1, a, b, l, m)"
   ]
  },
  {
   "cell_type": "code",
   "execution_count": 28,
   "metadata": {
    "collapsed": false
   },
   "outputs": [
    {
     "name": "stdout",
     "output_type": "stream",
     "text": [
      "1 loops, best of 3: 14.9 s per loop\n"
     ]
    }
   ],
   "source": [
    "%timeit integrate_by_monte_carlo(f1, n1, a, b, l, m)"
   ]
  }
 ],
 "metadata": {
  "kernelspec": {
   "display_name": "Python 3",
   "language": "python",
   "name": "python3"
  },
  "language_info": {
   "codemirror_mode": {
    "name": "ipython",
    "version": 3
   },
   "file_extension": ".py",
   "mimetype": "text/x-python",
   "name": "python",
   "nbconvert_exporter": "python",
   "pygments_lexer": "ipython3",
   "version": "3.5.0"
  }
 },
 "nbformat": 4,
 "nbformat_minor": 0
}
