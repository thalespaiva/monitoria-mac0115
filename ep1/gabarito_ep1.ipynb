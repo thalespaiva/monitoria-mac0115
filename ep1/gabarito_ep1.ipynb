{
 "cells": [
  {
   "cell_type": "markdown",
   "metadata": {},
   "source": [
    "# MAC0115 2015 - Professor Routo Terada"
   ]
  },
  {
   "cell_type": "markdown",
   "metadata": {},
   "source": [
    "## Solução do EP1 em python3\n",
    "### Por Thales Paiva (<thalespaiva@gmail.com>)"
   ]
  },
  {
   "cell_type": "markdown",
   "metadata": {},
   "source": [
    "### 0. Enunciado"
   ]
  },
  {
   "cell_type": "markdown",
   "metadata": {},
   "source": [
    "Este exercício pede que os alunos implementassem algoritmos simples sobre listas. Dada uma lista de números `L`, as seguintes medidas estatísticas de `L` eram esperadas:\n",
    "1. Máximo\n",
    "2. Mínimo\n",
    "3. Média\n",
    "4. Variância\n",
    "5. Desvio Padrão"
   ]
  },
  {
   "cell_type": "markdown",
   "metadata": {},
   "source": [
    "### 1. Máximo"
   ]
  },
  {
   "cell_type": "markdown",
   "metadata": {},
   "source": [
    "Para calcular o máximo de uma lista, é possível usar a função `max`, já embutida no Python. Porém a ideia do EP era fazer com que o aluno exercitasse a manipulação de listas, iterações, e condicionais. Então preferimos que o aluno calculasse o máximo percorrendo os valores da lista e tomando aquele com maior valor, como abaixo."
   ]
  },
  {
   "cell_type": "code",
   "execution_count": 1,
   "metadata": {
    "collapsed": true
   },
   "outputs": [],
   "source": [
    "def get_max(L):\n",
    "    max_value = L[0]\n",
    "    \n",
    "    for element in L:\n",
    "        if max_value < element:\n",
    "            max_value = element\n",
    "    \n",
    "    return max_value"
   ]
  },
  {
   "cell_type": "markdown",
   "metadata": {
    "collapsed": true
   },
   "source": [
    "Vamos testá-la com uma lista para conferir o resultado:"
   ]
  },
  {
   "cell_type": "code",
   "execution_count": 2,
   "metadata": {
    "collapsed": true
   },
   "outputs": [],
   "source": [
    "L = [2.4, 5.1, -4.0, 8.2, -7.5, 3.1, 0.9, 1.8, 6.5, -9.4]"
   ]
  },
  {
   "cell_type": "code",
   "execution_count": 3,
   "metadata": {
    "collapsed": false
   },
   "outputs": [
    {
     "data": {
      "text/plain": [
       "8.2"
      ]
     },
     "execution_count": 3,
     "metadata": {},
     "output_type": "execute_result"
    }
   ],
   "source": [
    "get_max(L)"
   ]
  },
  {
   "cell_type": "markdown",
   "metadata": {},
   "source": [
    "#### Observações:\n",
    "* Um dos erros de implementação mais comuns para o cálculo do máximo é inicializar `max_value` com o valor 0. Por que está errado?\n",
    "* O nome `max` a variável que guarda o valor do máximo parece mais natural do que `max_value`. Mas `max` é palavra-chave em Python e é deselegante usar este tipo de termo em nossos programas. \n",
    "* É comum e recomendável nomear funções com verbos e variáveis com substantivos pois, em geral, é o que eles representam no mundo real."
   ]
  },
  {
   "cell_type": "markdown",
   "metadata": {},
   "source": [
    "### 2. Mínimo"
   ]
  },
  {
   "cell_type": "markdown",
   "metadata": {},
   "source": [
    "A função para calcular o mínimo é praticamente igual à para calcular o máximo. Basta inverter o sinal da comparação dentro do laço:"
   ]
  },
  {
   "cell_type": "code",
   "execution_count": 4,
   "metadata": {
    "collapsed": true
   },
   "outputs": [],
   "source": [
    "def get_min(L):\n",
    "    max_value = L[0]\n",
    "    \n",
    "    for element in L:\n",
    "        if min_value > element:\n",
    "            min_value = element\n",
    "    \n",
    "    return min_value"
   ]
  },
  {
   "cell_type": "markdown",
   "metadata": {},
   "source": [
    "### 3. Média"
   ]
  },
  {
   "cell_type": "markdown",
   "metadata": {},
   "source": [
    "A média de um conjunto $ X = \\{x_1, x_2, ..., x_n\\} $ é dada por: $ \\sum\\limits_{i = 1}^{n} \\frac{x_i}{n} $. Assim, para calcular a média de `L` podemos calcular a soma dos valores de `L` e dividí-la por `len(L)`."
   ]
  },
  {
   "cell_type": "markdown",
   "metadata": {},
   "source": [
    "Como somar os valores de uma lista tem utilidade por si só, criaremos uma função para fazer isso. Note que, como `max` e `min`, há também uma função `sum` embutida que faz o que queremos."
   ]
  },
  {
   "cell_type": "code",
   "execution_count": 5,
   "metadata": {
    "collapsed": true
   },
   "outputs": [],
   "source": [
    "def get_sum(L):\n",
    "    value = 0\n",
    "\n",
    "    for element in L:\n",
    "        value += element\n",
    "\n",
    "    return value"
   ]
  },
  {
   "cell_type": "code",
   "execution_count": 6,
   "metadata": {
    "collapsed": false
   },
   "outputs": [
    {
     "data": {
      "text/plain": [
       "7.1"
      ]
     },
     "execution_count": 6,
     "metadata": {},
     "output_type": "execute_result"
    }
   ],
   "source": [
    "get_sum(L)"
   ]
  },
  {
   "cell_type": "markdown",
   "metadata": {},
   "source": [
    "Agora, a função que calcula a média só precisa chamar esta função e dividir o valor devolvido pelo número de elementos da lista."
   ]
  },
  {
   "cell_type": "code",
   "execution_count": 7,
   "metadata": {
    "collapsed": true
   },
   "outputs": [],
   "source": [
    "def get_mean(L):\n",
    "    return get_sum(L) / len(L)"
   ]
  },
  {
   "cell_type": "code",
   "execution_count": 8,
   "metadata": {
    "collapsed": false
   },
   "outputs": [
    {
     "data": {
      "text/plain": [
       "0.71"
      ]
     },
     "execution_count": 8,
     "metadata": {},
     "output_type": "execute_result"
    }
   ],
   "source": [
    "get_mean(L)"
   ]
  },
  {
   "cell_type": "markdown",
   "metadata": {},
   "source": [
    "####  Sobre o desempenho da função"
   ]
  },
  {
   "cell_type": "markdown",
   "metadata": {},
   "source": [
    "Escolhemos calcular a média de `L` fazendo primeiro a soma dos elementos de `L` e depois dividindo-a pelo número de elementos. Uma alternativa seria fazer um laço somando os valores de `L[i]/len(L)` em `value`, como abaixo. Qual deles é preferível?"
   ]
  },
  {
   "cell_type": "code",
   "execution_count": 9,
   "metadata": {
    "collapsed": true
   },
   "outputs": [],
   "source": [
    "def get_mean2(L):\n",
    "    value = 0\n",
    "    \n",
    "    for element in L:\n",
    "        value += element/len(L)\n",
    "    \n",
    "    return value"
   ]
  },
  {
   "cell_type": "markdown",
   "metadata": {},
   "source": [
    "Um modo possível de responder a essa pergunta é: preferimos a implementação que gaste menor tempo para rodar. Para listas de pequenos tamanhos, a implementação não faz muita diferença. Vejamos então a diferença no tempo de execução para o processamento da lista `big_list`, com $ 10^7 $ elementos."
   ]
  },
  {
   "cell_type": "code",
   "execution_count": 10,
   "metadata": {
    "collapsed": true
   },
   "outputs": [],
   "source": [
    "big_list = range(10000000)"
   ]
  },
  {
   "cell_type": "code",
   "execution_count": 11,
   "metadata": {
    "collapsed": false
   },
   "outputs": [
    {
     "name": "stdout",
     "output_type": "stream",
     "text": [
      "1 loops, best of 3: 981 ms per loop\n"
     ]
    }
   ],
   "source": [
    "result1 = %timeit -o get_mean(big_list)"
   ]
  },
  {
   "cell_type": "code",
   "execution_count": 12,
   "metadata": {
    "collapsed": false
   },
   "outputs": [
    {
     "name": "stdout",
     "output_type": "stream",
     "text": [
      "1 loops, best of 3: 1.46 s per loop\n"
     ]
    }
   ],
   "source": [
    "result2 = %timeit -o get_mean2(big_list)"
   ]
  },
  {
   "cell_type": "markdown",
   "metadata": {},
   "source": [
    "Vemos que o tempo de execução foi bem maior para a segunda implementação. Isso ocorre porque `get_mean2` faz uma soma, uma divisão, e uma atribuição para cada elemento de `L`, enquanto `get_mean` faz apenas uma soma e uma atribuição. Como essas operações estão dentro de laços grandes, são as operações mais executadas por cada uma das funções. Assim, parece que o número de operações fundamentais que a função `get_mean` executa é aproximadamente $ \\frac{2n}{3n} = \\frac{2}{3} \\approx 0.666... $ daquele que a `get_mean2` executa. Compare com o valor observado entre as melhores execuções de cada uma:"
   ]
  },
  {
   "cell_type": "code",
   "execution_count": 13,
   "metadata": {
    "collapsed": false
   },
   "outputs": [
    {
     "data": {
      "text/plain": [
       "0.6709513966094954"
      ]
     },
     "execution_count": 13,
     "metadata": {},
     "output_type": "execute_result"
    }
   ],
   "source": [
    "result1.best/result2.best"
   ]
  },
  {
   "cell_type": "markdown",
   "metadata": {},
   "source": [
    "### 4. Variância"
   ]
  },
  {
   "cell_type": "markdown",
   "metadata": {},
   "source": [
    "A variância de uma amostra $ X = \\{ x_1, x_2, ..., x_n\\} $ é definida como $ \\frac{1}{n - 1}\\sum\\limits_{i=1}^{n} (x_i - \\bar{X})^2 $, onde $ \\bar{X} $ representa a média amostral. Podemos simplificar esta expressão fazendo:\n",
    "\\begin{align}\n",
    "\\frac{1}{n - 1}\\sum\\limits_{i=1}^{n} (x_i - \\bar{X})^2 \n",
    "&= \\frac{1}{n - 1} \\left( \\sum\\limits_{i=1}^{n} (x_i^2 - 2 x_i \\bar{X} +  \\bar{X}^2) \\right) \\\\\n",
    "&= \\frac{1}{n - 1} \\left( \\sum\\limits_{i=1}^{n} x_i^2 -\\sum\\limits_{i=1}^{n} 2 x_i \\bar{X} + \\sum\\limits_{i=1}^{n} \\bar{X}^2 \\right)\\\\\n",
    "&= \\frac{1}{n - 1} \\left( \\sum\\limits_{i=1}^{n} x_i^2 - 2\\bar{X}\\sum\\limits_{i=1}^{n} x_i + \\bar{X}^2 \\sum\\limits_{i=1}^{n} 1 \\right)\\\\\n",
    "&= \\frac{1}{n - 1} \\left( \\sum\\limits_{i=1}^{n} x_i^2 - 2n\\bar{X}^2 + n\\bar{X}^2 \\right)\\\\\n",
    "&= \\frac{1}{n - 1} \\left( \\sum\\limits_{i=1}^{n} x_i^2 - n\\bar{X}^2 \\right)\n",
    "\\end{align}"
   ]
  },
  {
   "cell_type": "markdown",
   "metadata": {},
   "source": [
    "Como qualquer implementação trivial deve elevar um número ao quadrado, vamos primeiro escrever uma função para fazer isso:"
   ]
  },
  {
   "cell_type": "code",
   "execution_count": 14,
   "metadata": {
    "collapsed": true
   },
   "outputs": [],
   "source": [
    "def sqr(x):\n",
    "    return x*x"
   ]
  },
  {
   "cell_type": "markdown",
   "metadata": {},
   "source": [
    "Uma possível implementação de uma função que calcula a variância é a seguinte:"
   ]
  },
  {
   "cell_type": "code",
   "execution_count": 15,
   "metadata": {
    "collapsed": false
   },
   "outputs": [],
   "source": [
    "def get_variance(L):\n",
    "    # Estamos supondo que len(L) > 1\n",
    "    \n",
    "    sum_sqr = 0\n",
    "    \n",
    "    for element in L:\n",
    "        sum_sqr += element * element\n",
    "    \n",
    "    mean = get_mean(L)\n",
    "    \n",
    "    return (sum_sqr - len(L) * mean * mean) / (len(L) - 1)"
   ]
  },
  {
   "cell_type": "code",
   "execution_count": 16,
   "metadata": {
    "collapsed": false
   },
   "outputs": [
    {
     "data": {
      "text/plain": [
       "34.49877777777778"
      ]
     },
     "execution_count": 16,
     "metadata": {},
     "output_type": "execute_result"
    }
   ],
   "source": [
    "get_variance(L)"
   ]
  },
  {
   "cell_type": "markdown",
   "metadata": {},
   "source": [
    "#### Sobre o desempenho da função:"
   ]
  },
  {
   "cell_type": "markdown",
   "metadata": {},
   "source": [
    "Como para o cálculo da média, há outras fórmulas em que poderíamos basear nossa implementação. Considere a seguinte implementação baseada na definição:"
   ]
  },
  {
   "cell_type": "code",
   "execution_count": 17,
   "metadata": {
    "collapsed": true
   },
   "outputs": [],
   "source": [
    "def get_variance2(L):\n",
    "    # Estamos supondo que len(L) > 1\n",
    "    \n",
    "    value = 0\n",
    "    \n",
    "    mean = get_mean(L)\n",
    "    \n",
    "    for element in L:\n",
    "        value += (element - mean)*(element - mean)\n",
    "    \n",
    "    return value/(len(L) - 1)"
   ]
  },
  {
   "cell_type": "code",
   "execution_count": 18,
   "metadata": {
    "collapsed": false
   },
   "outputs": [
    {
     "data": {
      "text/plain": [
       "34.49877777777778"
      ]
     },
     "execution_count": 18,
     "metadata": {},
     "output_type": "execute_result"
    }
   ],
   "source": [
    "get_variance2(L)"
   ]
  },
  {
   "cell_type": "markdown",
   "metadata": {},
   "source": [
    "Vamos comparar desempenho entre as duas implementações aplicadas sobre nossa lista `big_list`."
   ]
  },
  {
   "cell_type": "code",
   "execution_count": 19,
   "metadata": {
    "collapsed": false
   },
   "outputs": [
    {
     "name": "stdout",
     "output_type": "stream",
     "text": [
      "1 loops, best of 3: 2.33 s per loop\n"
     ]
    }
   ],
   "source": [
    "result1 = %timeit -o get_variance(big_list)"
   ]
  },
  {
   "cell_type": "code",
   "execution_count": 20,
   "metadata": {
    "collapsed": false
   },
   "outputs": [
    {
     "name": "stdout",
     "output_type": "stream",
     "text": [
      "1 loops, best of 3: 3.36 s per loop\n"
     ]
    }
   ],
   "source": [
    "result2 = %timeit -o get_variance2(big_list)"
   ]
  },
  {
   "cell_type": "markdown",
   "metadata": {},
   "source": [
    "Novamente, o tempo de execução foi bem maior para a segunda implementação. Ambas chamam a função `get_mean` que faz aproximadamente $2n$ operações. A função `get_variance2` faz três somas, uma multiplicação, e uma atribuição, $ n $ vezes, resultando num consumo de tempo aproximado de $ 2n + 5n = 7n $. Por sua vez, a `get_variance` faz uma soma, uma multiplicação, e uma atribuição, $ n $ vezes, e seu consumo aproximado é de $ 2n + 3n = 5n $. Isso sugere que o desempenho da função `get_variance` deva ser aproximadamente $ \\frac{5n}{7n} = \\frac{5}{7} \\approx = 0.7143 $ do desempenho da `get_variance2`. Compare com o resultado observado."
   ]
  },
  {
   "cell_type": "code",
   "execution_count": 21,
   "metadata": {
    "collapsed": false
   },
   "outputs": [
    {
     "data": {
      "text/plain": [
       "0.6938860194237043"
      ]
     },
     "execution_count": 21,
     "metadata": {},
     "output_type": "execute_result"
    }
   ],
   "source": [
    "result1.best/result2.best"
   ]
  },
  {
   "cell_type": "markdown",
   "metadata": {},
   "source": [
    "#### Observações:"
   ]
  },
  {
   "cell_type": "markdown",
   "metadata": {},
   "source": [
    "* Em Python temos alguns modos de elevar um número ao quadrado. Dois deles são:\n",
    "    1. Usando o operador `**`, e `2**4` resulta em `16`.\n",
    "    2. Usando a função embutida `pow`, e `pow(2, 4)` resulta em `16`.\n",
    "    \n",
    "Não usamos nenhum deles pois, para o caso específico de elevar ao quadrado, os dois são mais lentos que a multiplicação ingênua. Assim, contaminariam os resultados de desempenho da função."
   ]
  },
  {
   "cell_type": "markdown",
   "metadata": {},
   "source": [
    "* É muito interessante evitar código repetido nos nossos programas. Considere as funções abaixo:\n",
    "```python\n",
    "    def sum_values(L):\n",
    "        value = 0\n",
    "\n",
    "        for element in L:\n",
    "            value += element\n",
    "\n",
    "        return value\n",
    "\n",
    "    def sum_sqr_values(L):\n",
    "        value = 0\n",
    "\n",
    "        for element in L:\n",
    "            value += element*element\n",
    "\n",
    "        return value\n",
    "```\n",
    "\n",
    "\n",
    "Imagine que em algum momento, queiramos usar os valores de element/2 e não element em nosso código. Teríamos que mudar os valores nas duas funções, o que traz dificuldades na hora de entender e corrigir o código, podendo levar a erros no programa. Uma alternativa, seria generalizar a função, como abaixo:\n",
    "```python\n",
    "    def sum_pow(L, power):\n",
    "        value = 0\n",
    "\n",
    "        for element in L:\n",
    "            value += pow(element, power)\n",
    "\n",
    "        return value\n",
    "```\n",
    "\n",
    "E assim, `sum_values(L) = sum_pow(L, 1)` e `sum_sqr_values(L) = sum_pow(L, 2)`."
   ]
  },
  {
   "cell_type": "markdown",
   "metadata": {},
   "source": [
    "### 5. Desvio Padrão"
   ]
  },
  {
   "cell_type": "markdown",
   "metadata": {},
   "source": [
    "O desvio padrão é definido como a raiz quadrada da variância. Em python, há vários modos de se obter a raiz quadrada de um número `x`. Alguns exemplos são:\n",
    "* `x**(1/2)`\n",
    "* `pow(x, 1/2)`\n",
    "* `math.sqrt(x)`\n",
    "\n",
    "Porém, neste EP, foi pedido que o aluno implementasse o Método de Newton para o cálculo da raiz quadrada. Uma implementação é \n",
    "descrita a seguir."
   ]
  },
  {
   "cell_type": "markdown",
   "metadata": {},
   "source": [
    "O Método de Newton usa um algoritmo iterativo que pára quando a diferença absoluta dos valores obtido para iterações consecutivas é menor que um certo erro preestabelecido `SQRT_ERROR`. O valor para este erro no enunciado era de $ 10^{-4} $. Assim:"
   ]
  },
  {
   "cell_type": "code",
   "execution_count": 22,
   "metadata": {
    "collapsed": true
   },
   "outputs": [],
   "source": [
    "SQRT_ERROR = 1e-4"
   ]
  },
  {
   "cell_type": "code",
   "execution_count": 23,
   "metadata": {
    "collapsed": false
   },
   "outputs": [
    {
     "data": {
      "text/plain": [
       "0.0001"
      ]
     },
     "execution_count": 23,
     "metadata": {},
     "output_type": "execute_result"
    }
   ],
   "source": [
    "SQRT_ERROR\n"
   ]
  },
  {
   "cell_type": "markdown",
   "metadata": {},
   "source": [
    "Precisamos, também, de uma função para calcular valores absolutos. Sabemos que em Python há uma função embutida para isso chamada `abs`. Porém, é preferível que o aluno implemente uma função equivalente. Abaixo, temos uma implementação para isso."
   ]
  },
  {
   "cell_type": "code",
   "execution_count": 24,
   "metadata": {
    "collapsed": true
   },
   "outputs": [],
   "source": [
    "def get_abs(value):\n",
    "    if value >= 0:\n",
    "        return value\n",
    "    else:\n",
    "        return -value"
   ]
  },
  {
   "cell_type": "markdown",
   "metadata": {},
   "source": [
    "Estamos aptos a escrever nossa função que calcula raízes quadradas seguindo o Método de Newton."
   ]
  },
  {
   "cell_type": "code",
   "execution_count": 25,
   "metadata": {
    "collapsed": true
   },
   "outputs": [],
   "source": [
    "def get_sqrt_newton(x):\n",
    "    r0 = x\n",
    "    r1 = (x + 1) / 2    # = (r0 + x/r0) / 2\n",
    "\n",
    "    while get_abs(r1 - r0) >= SQRT_ERROR:\n",
    "        r0 = r1\n",
    "        r1 = (r0 + x / r0) / 2\n",
    "\n",
    "    return r1\n",
    "    "
   ]
  },
  {
   "cell_type": "code",
   "execution_count": 26,
   "metadata": {
    "collapsed": false
   },
   "outputs": [
    {
     "data": {
      "text/plain": [
       "3.162277660168379"
      ]
     },
     "execution_count": 26,
     "metadata": {},
     "output_type": "execute_result"
    }
   ],
   "source": [
    "get_sqrt_newton(10)"
   ]
  },
  {
   "cell_type": "markdown",
   "metadata": {},
   "source": [
    "Compare o resultado obtido com aquele que se obtém usando a função embutida `pow`."
   ]
  },
  {
   "cell_type": "code",
   "execution_count": 27,
   "metadata": {
    "collapsed": false
   },
   "outputs": [
    {
     "data": {
      "text/plain": [
       "3.1622776601683795"
      ]
     },
     "execution_count": 27,
     "metadata": {},
     "output_type": "execute_result"
    }
   ],
   "source": [
    "pow(10, 1/2)"
   ]
  },
  {
   "cell_type": "markdown",
   "metadata": {},
   "source": [
    "Com isso, a implementação da função para calcular o desvio padrão é simplesmente:"
   ]
  },
  {
   "cell_type": "code",
   "execution_count": 28,
   "metadata": {
    "collapsed": true
   },
   "outputs": [],
   "source": [
    "def get_sd(L):\n",
    "    return get_sqrt_newton(get_variance(L))"
   ]
  },
  {
   "cell_type": "code",
   "execution_count": 29,
   "metadata": {
    "collapsed": false
   },
   "outputs": [
    {
     "data": {
      "text/plain": [
       "5.873566018849008"
      ]
     },
     "execution_count": 29,
     "metadata": {},
     "output_type": "execute_result"
    }
   ],
   "source": [
    "get_sd(L)"
   ]
  },
  {
   "cell_type": "markdown",
   "metadata": {},
   "source": [
    "#### Observações:"
   ]
  },
  {
   "cell_type": "markdown",
   "metadata": {},
   "source": [
    "* Se em nosso programa estivermos interessados na variância e no desvio padrão, chamar `get_sd` pode não ser muito esperto. pois ela calcularia a variância novamente. O melhor seria fazer:\n",
    "```python\n",
    "    var = get_var(L)\n",
    "    sd = get_sqrt_newton(var)\n",
    "```\n",
    "\n",
    "Escrevi a função `get_sd` desse modo para deixá-la independente de resultados anteriores."
   ]
  }
 ],
 "metadata": {
  "kernelspec": {
   "display_name": "Python 3",
   "language": "python",
   "name": "python3"
  },
  "language_info": {
   "codemirror_mode": {
    "name": "ipython",
    "version": 3
   },
   "file_extension": ".py",
   "mimetype": "text/x-python",
   "name": "python",
   "nbconvert_exporter": "python",
   "pygments_lexer": "ipython3",
   "version": "3.4.3"
  }
 },
 "nbformat": 4,
 "nbformat_minor": 0
}
